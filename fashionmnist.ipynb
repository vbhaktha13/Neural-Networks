{
  "nbformat": 4,
  "nbformat_minor": 0,
  "metadata": {
    "colab": {
      "name": "fashionmnist.ipynb",
      "provenance": [],
      "authorship_tag": "ABX9TyPj3T4KMCmyyY15bf9f8qGW",
      "include_colab_link": true
    },
    "kernelspec": {
      "name": "python3",
      "display_name": "Python 3"
    },
    "language_info": {
      "name": "python"
    }
  },
  "cells": [
    {
      "cell_type": "markdown",
      "metadata": {
        "id": "view-in-github",
        "colab_type": "text"
      },
      "source": [
        "<a href=\"https://colab.research.google.com/github/vbhaktha13/Neural-Networks/blob/main/fashionmnist.ipynb\" target=\"_parent\"><img src=\"https://colab.research.google.com/assets/colab-badge.svg\" alt=\"Open In Colab\"/></a>"
      ]
    },
    {
      "cell_type": "code",
      "execution_count": 4,
      "metadata": {
        "colab": {
          "base_uri": "https://localhost:8080/"
        },
        "id": "T86aqUmexsBB",
        "outputId": "bd767700-07bd-4269-d389-7501afb045f7"
      },
      "outputs": [
        {
          "output_type": "stream",
          "name": "stdout",
          "text": [
            "Archive:  /content/archive (4).zip\n",
            "replace fashion-mnist_test.csv? [y]es, [n]o, [A]ll, [N]one, [r]ename: n\n",
            "replace fashion-mnist_train.csv? [y]es, [n]o, [A]ll, [N]one, [r]ename: no\n",
            "replace t10k-images-idx3-ubyte? [y]es, [n]o, [A]ll, [N]one, [r]ename: no\n",
            "replace t10k-labels-idx1-ubyte? [y]es, [n]o, [A]ll, [N]one, [r]ename: no\n",
            "replace train-images-idx3-ubyte? [y]es, [n]o, [A]ll, [N]one, [r]ename: no\n",
            "replace train-labels-idx1-ubyte? [y]es, [n]o, [A]ll, [N]one, [r]ename: no\n"
          ]
        }
      ],
      "source": [
        "!unzip '/content/archive (4).zip'"
      ]
    },
    {
      "cell_type": "code",
      "source": [
        "import pandas as pd\n",
        "import numpy as np\n",
        "import matplotlib.pyplot as plt\n",
        "from sklearn.model_selection import train_test_split\n",
        "from sklearn.metrics import accuracy_score, classification_report, confusion_matrix\n",
        "from sklearn.neural_network import MLPClassifier\n",
        "from keras.models import sequential\n",
        "from keras.layers import Dense, Dropout\n",
        "from tensorflow.keras.optimizers import SGD,Adam\n",
        "from tensorflow.keras.utils import to_categorical\n",
        "from keras.losses import categorical_crossentropy\n",
        "\n"
      ],
      "metadata": {
        "id": "pXEPCLWm464_"
      },
      "execution_count": 6,
      "outputs": []
    },
    {
      "cell_type": "code",
      "source": [
        "train=pd.read_csv('/content/fashion-mnist_train.csv')"
      ],
      "metadata": {
        "id": "g24Gq0HB8zFd"
      },
      "execution_count": 7,
      "outputs": []
    },
    {
      "cell_type": "code",
      "source": [
        "test=pd.read_csv('/content/fashion-mnist_test.csv')"
      ],
      "metadata": {
        "id": "W9XYoJWc-Wan"
      },
      "execution_count": 8,
      "outputs": []
    },
    {
      "cell_type": "code",
      "source": [
        "print(train.shape)\n",
        "print(test.shape)"
      ],
      "metadata": {
        "colab": {
          "base_uri": "https://localhost:8080/"
        },
        "id": "6EyYQSJA-nGC",
        "outputId": "04dcb75e-9450-496d-b11a-575552209240"
      },
      "execution_count": 9,
      "outputs": [
        {
          "output_type": "stream",
          "name": "stdout",
          "text": [
            "(60000, 785)\n",
            "(10000, 785)\n"
          ]
        }
      ]
    },
    {
      "cell_type": "code",
      "source": [
        "train.head()"
      ],
      "metadata": {
        "colab": {
          "base_uri": "https://localhost:8080/",
          "height": 299
        },
        "id": "NE_SxToR-8w0",
        "outputId": "8ed2447f-e92c-4cb6-ad07-441a14683cbd"
      },
      "execution_count": 10,
      "outputs": [
        {
          "output_type": "execute_result",
          "data": {
            "text/plain": [
              "   label  pixel1  pixel2  pixel3  pixel4  pixel5  pixel6  pixel7  pixel8  \\\n",
              "0      2       0       0       0       0       0       0       0       0   \n",
              "1      9       0       0       0       0       0       0       0       0   \n",
              "2      6       0       0       0       0       0       0       0       5   \n",
              "3      0       0       0       0       1       2       0       0       0   \n",
              "4      3       0       0       0       0       0       0       0       0   \n",
              "\n",
              "   pixel9  ...  pixel775  pixel776  pixel777  pixel778  pixel779  pixel780  \\\n",
              "0       0  ...         0         0         0         0         0         0   \n",
              "1       0  ...         0         0         0         0         0         0   \n",
              "2       0  ...         0         0         0        30        43         0   \n",
              "3       0  ...         3         0         0         0         0         1   \n",
              "4       0  ...         0         0         0         0         0         0   \n",
              "\n",
              "   pixel781  pixel782  pixel783  pixel784  \n",
              "0         0         0         0         0  \n",
              "1         0         0         0         0  \n",
              "2         0         0         0         0  \n",
              "3         0         0         0         0  \n",
              "4         0         0         0         0  \n",
              "\n",
              "[5 rows x 785 columns]"
            ],
            "text/html": [
              "\n",
              "  <div id=\"df-87e79027-fdca-4f08-8c18-12810672fc3d\">\n",
              "    <div class=\"colab-df-container\">\n",
              "      <div>\n",
              "<style scoped>\n",
              "    .dataframe tbody tr th:only-of-type {\n",
              "        vertical-align: middle;\n",
              "    }\n",
              "\n",
              "    .dataframe tbody tr th {\n",
              "        vertical-align: top;\n",
              "    }\n",
              "\n",
              "    .dataframe thead th {\n",
              "        text-align: right;\n",
              "    }\n",
              "</style>\n",
              "<table border=\"1\" class=\"dataframe\">\n",
              "  <thead>\n",
              "    <tr style=\"text-align: right;\">\n",
              "      <th></th>\n",
              "      <th>label</th>\n",
              "      <th>pixel1</th>\n",
              "      <th>pixel2</th>\n",
              "      <th>pixel3</th>\n",
              "      <th>pixel4</th>\n",
              "      <th>pixel5</th>\n",
              "      <th>pixel6</th>\n",
              "      <th>pixel7</th>\n",
              "      <th>pixel8</th>\n",
              "      <th>pixel9</th>\n",
              "      <th>...</th>\n",
              "      <th>pixel775</th>\n",
              "      <th>pixel776</th>\n",
              "      <th>pixel777</th>\n",
              "      <th>pixel778</th>\n",
              "      <th>pixel779</th>\n",
              "      <th>pixel780</th>\n",
              "      <th>pixel781</th>\n",
              "      <th>pixel782</th>\n",
              "      <th>pixel783</th>\n",
              "      <th>pixel784</th>\n",
              "    </tr>\n",
              "  </thead>\n",
              "  <tbody>\n",
              "    <tr>\n",
              "      <th>0</th>\n",
              "      <td>2</td>\n",
              "      <td>0</td>\n",
              "      <td>0</td>\n",
              "      <td>0</td>\n",
              "      <td>0</td>\n",
              "      <td>0</td>\n",
              "      <td>0</td>\n",
              "      <td>0</td>\n",
              "      <td>0</td>\n",
              "      <td>0</td>\n",
              "      <td>...</td>\n",
              "      <td>0</td>\n",
              "      <td>0</td>\n",
              "      <td>0</td>\n",
              "      <td>0</td>\n",
              "      <td>0</td>\n",
              "      <td>0</td>\n",
              "      <td>0</td>\n",
              "      <td>0</td>\n",
              "      <td>0</td>\n",
              "      <td>0</td>\n",
              "    </tr>\n",
              "    <tr>\n",
              "      <th>1</th>\n",
              "      <td>9</td>\n",
              "      <td>0</td>\n",
              "      <td>0</td>\n",
              "      <td>0</td>\n",
              "      <td>0</td>\n",
              "      <td>0</td>\n",
              "      <td>0</td>\n",
              "      <td>0</td>\n",
              "      <td>0</td>\n",
              "      <td>0</td>\n",
              "      <td>...</td>\n",
              "      <td>0</td>\n",
              "      <td>0</td>\n",
              "      <td>0</td>\n",
              "      <td>0</td>\n",
              "      <td>0</td>\n",
              "      <td>0</td>\n",
              "      <td>0</td>\n",
              "      <td>0</td>\n",
              "      <td>0</td>\n",
              "      <td>0</td>\n",
              "    </tr>\n",
              "    <tr>\n",
              "      <th>2</th>\n",
              "      <td>6</td>\n",
              "      <td>0</td>\n",
              "      <td>0</td>\n",
              "      <td>0</td>\n",
              "      <td>0</td>\n",
              "      <td>0</td>\n",
              "      <td>0</td>\n",
              "      <td>0</td>\n",
              "      <td>5</td>\n",
              "      <td>0</td>\n",
              "      <td>...</td>\n",
              "      <td>0</td>\n",
              "      <td>0</td>\n",
              "      <td>0</td>\n",
              "      <td>30</td>\n",
              "      <td>43</td>\n",
              "      <td>0</td>\n",
              "      <td>0</td>\n",
              "      <td>0</td>\n",
              "      <td>0</td>\n",
              "      <td>0</td>\n",
              "    </tr>\n",
              "    <tr>\n",
              "      <th>3</th>\n",
              "      <td>0</td>\n",
              "      <td>0</td>\n",
              "      <td>0</td>\n",
              "      <td>0</td>\n",
              "      <td>1</td>\n",
              "      <td>2</td>\n",
              "      <td>0</td>\n",
              "      <td>0</td>\n",
              "      <td>0</td>\n",
              "      <td>0</td>\n",
              "      <td>...</td>\n",
              "      <td>3</td>\n",
              "      <td>0</td>\n",
              "      <td>0</td>\n",
              "      <td>0</td>\n",
              "      <td>0</td>\n",
              "      <td>1</td>\n",
              "      <td>0</td>\n",
              "      <td>0</td>\n",
              "      <td>0</td>\n",
              "      <td>0</td>\n",
              "    </tr>\n",
              "    <tr>\n",
              "      <th>4</th>\n",
              "      <td>3</td>\n",
              "      <td>0</td>\n",
              "      <td>0</td>\n",
              "      <td>0</td>\n",
              "      <td>0</td>\n",
              "      <td>0</td>\n",
              "      <td>0</td>\n",
              "      <td>0</td>\n",
              "      <td>0</td>\n",
              "      <td>0</td>\n",
              "      <td>...</td>\n",
              "      <td>0</td>\n",
              "      <td>0</td>\n",
              "      <td>0</td>\n",
              "      <td>0</td>\n",
              "      <td>0</td>\n",
              "      <td>0</td>\n",
              "      <td>0</td>\n",
              "      <td>0</td>\n",
              "      <td>0</td>\n",
              "      <td>0</td>\n",
              "    </tr>\n",
              "  </tbody>\n",
              "</table>\n",
              "<p>5 rows × 785 columns</p>\n",
              "</div>\n",
              "      <button class=\"colab-df-convert\" onclick=\"convertToInteractive('df-87e79027-fdca-4f08-8c18-12810672fc3d')\"\n",
              "              title=\"Convert this dataframe to an interactive table.\"\n",
              "              style=\"display:none;\">\n",
              "        \n",
              "  <svg xmlns=\"http://www.w3.org/2000/svg\" height=\"24px\"viewBox=\"0 0 24 24\"\n",
              "       width=\"24px\">\n",
              "    <path d=\"M0 0h24v24H0V0z\" fill=\"none\"/>\n",
              "    <path d=\"M18.56 5.44l.94 2.06.94-2.06 2.06-.94-2.06-.94-.94-2.06-.94 2.06-2.06.94zm-11 1L8.5 8.5l.94-2.06 2.06-.94-2.06-.94L8.5 2.5l-.94 2.06-2.06.94zm10 10l.94 2.06.94-2.06 2.06-.94-2.06-.94-.94-2.06-.94 2.06-2.06.94z\"/><path d=\"M17.41 7.96l-1.37-1.37c-.4-.4-.92-.59-1.43-.59-.52 0-1.04.2-1.43.59L10.3 9.45l-7.72 7.72c-.78.78-.78 2.05 0 2.83L4 21.41c.39.39.9.59 1.41.59.51 0 1.02-.2 1.41-.59l7.78-7.78 2.81-2.81c.8-.78.8-2.07 0-2.86zM5.41 20L4 18.59l7.72-7.72 1.47 1.35L5.41 20z\"/>\n",
              "  </svg>\n",
              "      </button>\n",
              "      \n",
              "  <style>\n",
              "    .colab-df-container {\n",
              "      display:flex;\n",
              "      flex-wrap:wrap;\n",
              "      gap: 12px;\n",
              "    }\n",
              "\n",
              "    .colab-df-convert {\n",
              "      background-color: #E8F0FE;\n",
              "      border: none;\n",
              "      border-radius: 50%;\n",
              "      cursor: pointer;\n",
              "      display: none;\n",
              "      fill: #1967D2;\n",
              "      height: 32px;\n",
              "      padding: 0 0 0 0;\n",
              "      width: 32px;\n",
              "    }\n",
              "\n",
              "    .colab-df-convert:hover {\n",
              "      background-color: #E2EBFA;\n",
              "      box-shadow: 0px 1px 2px rgba(60, 64, 67, 0.3), 0px 1px 3px 1px rgba(60, 64, 67, 0.15);\n",
              "      fill: #174EA6;\n",
              "    }\n",
              "\n",
              "    [theme=dark] .colab-df-convert {\n",
              "      background-color: #3B4455;\n",
              "      fill: #D2E3FC;\n",
              "    }\n",
              "\n",
              "    [theme=dark] .colab-df-convert:hover {\n",
              "      background-color: #434B5C;\n",
              "      box-shadow: 0px 1px 3px 1px rgba(0, 0, 0, 0.15);\n",
              "      filter: drop-shadow(0px 1px 2px rgba(0, 0, 0, 0.3));\n",
              "      fill: #FFFFFF;\n",
              "    }\n",
              "  </style>\n",
              "\n",
              "      <script>\n",
              "        const buttonEl =\n",
              "          document.querySelector('#df-87e79027-fdca-4f08-8c18-12810672fc3d button.colab-df-convert');\n",
              "        buttonEl.style.display =\n",
              "          google.colab.kernel.accessAllowed ? 'block' : 'none';\n",
              "\n",
              "        async function convertToInteractive(key) {\n",
              "          const element = document.querySelector('#df-87e79027-fdca-4f08-8c18-12810672fc3d');\n",
              "          const dataTable =\n",
              "            await google.colab.kernel.invokeFunction('convertToInteractive',\n",
              "                                                     [key], {});\n",
              "          if (!dataTable) return;\n",
              "\n",
              "          const docLinkHtml = 'Like what you see? Visit the ' +\n",
              "            '<a target=\"_blank\" href=https://colab.research.google.com/notebooks/data_table.ipynb>data table notebook</a>'\n",
              "            + ' to learn more about interactive tables.';\n",
              "          element.innerHTML = '';\n",
              "          dataTable['output_type'] = 'display_data';\n",
              "          await google.colab.output.renderOutput(dataTable, element);\n",
              "          const docLink = document.createElement('div');\n",
              "          docLink.innerHTML = docLinkHtml;\n",
              "          element.appendChild(docLink);\n",
              "        }\n",
              "      </script>\n",
              "    </div>\n",
              "  </div>\n",
              "  "
            ]
          },
          "metadata": {},
          "execution_count": 10
        }
      ]
    },
    {
      "cell_type": "code",
      "source": [
        "from keras.backend_config import image_data_format\n",
        "features= [\"pixel{}\".format(pixel_num) for pixel_num in range (1 , 785)]\n",
        "rows_to_examine=1\n",
        "image_data =np.reshape(train[features][rows_to_examine:rows_to_examine+1].to_numpy(),(28,28))\n",
        "plt.imshow(image_data,cmap='gray')"
      ],
      "metadata": {
        "colab": {
          "base_uri": "https://localhost:8080/",
          "height": 283
        },
        "id": "08MVYVxU-nLK",
        "outputId": "33945628-553b-4328-a38d-2d97c59a3caa"
      },
      "execution_count": 15,
      "outputs": [
        {
          "output_type": "execute_result",
          "data": {
            "text/plain": [
              "<matplotlib.image.AxesImage at 0x7f163a2c8a90>"
            ]
          },
          "metadata": {},
          "execution_count": 15
        },
        {
          "output_type": "display_data",
          "data": {
            "text/plain": [
              "<Figure size 432x288 with 1 Axes>"
            ],
            "image/png": "[encoded data removed]"
          },
          "metadata": {
            "needs_background": "light"
          }
        }
      ]
    },
    {
      "cell_type": "code",
      "source": [
        "image_data.shape"
      ],
      "metadata": {
        "colab": {
          "base_uri": "https://localhost:8080/"
        },
        "id": "J4vjUtqUDg63",
        "outputId": "faede571-d74a-4a29-b463-0c71baa38664"
      },
      "execution_count": 13,
      "outputs": [
        {
          "output_type": "execute_result",
          "data": {
            "text/plain": [
              "(28, 28)"
            ]
          },
          "metadata": {},
          "execution_count": 13
        }
      ]
    },
    {
      "cell_type": "code",
      "source": [
        "#separating X,y\n",
        "X = train.iloc[:,1:]\n",
        "y = train['label']"
      ],
      "metadata": {
        "id": "ULOcPwATGr-H"
      },
      "execution_count": 21,
      "outputs": []
    },
    {
      "cell_type": "code",
      "source": [
        "print(X.shape)\n",
        "print(y.shape)"
      ],
      "metadata": {
        "colab": {
          "base_uri": "https://localhost:8080/"
        },
        "id": "6196lbCSGsKL",
        "outputId": "6f51f569-736e-40b9-eed0-b25c9caf7b51"
      },
      "execution_count": 22,
      "outputs": [
        {
          "output_type": "stream",
          "name": "stdout",
          "text": [
            "(60000, 784)\n",
            "(60000,)\n"
          ]
        }
      ]
    },
    {
      "cell_type": "code",
      "source": [
        "#split train, test\n",
        "X_train,X_test,y_train,y_test= train_test_split(X,y, test_size=0.2,random_state=123)"
      ],
      "metadata": {
        "id": "25HoZxQXHh7y"
      },
      "execution_count": 23,
      "outputs": []
    },
    {
      "cell_type": "code",
      "source": [
        "print(X_train.shape)\n",
        "print(y_train.shape)\n",
        "print(X_test.shape)\n",
        "print(y_test.shape)"
      ],
      "metadata": {
        "colab": {
          "base_uri": "https://localhost:8080/"
        },
        "id": "p0RvLI4JIvYW",
        "outputId": "c6a10bdc-5839-45b7-f2ea-7f7b12e1e908"
      },
      "execution_count": 24,
      "outputs": [
        {
          "output_type": "stream",
          "name": "stdout",
          "text": [
            "(48000, 784)\n",
            "(48000,)\n",
            "(12000, 784)\n",
            "(12000,)\n"
          ]
        }
      ]
    },
    {
      "cell_type": "code",
      "source": [
        "mlp=MLPClassifier(hidden_layer_sizes=(16,16,16),verbose=True)\n"
      ],
      "metadata": {
        "id": "F7I9zHXiSTRA"
      },
      "execution_count": 26,
      "outputs": []
    },
    {
      "cell_type": "code",
      "source": [
        "mlp.fit(X_train,y_train)"
      ],
      "metadata": {
        "colab": {
          "base_uri": "https://localhost:8080/"
        },
        "id": "KYxtkoj6Svcb",
        "outputId": "7b81aece-e50c-45fb-f5b6-889a02f32f44"
      },
      "execution_count": 27,
      "outputs": [
        {
          "output_type": "stream",
          "name": "stdout",
          "text": [
            "Iteration 1, loss = 3.43231361\n",
            "Iteration 2, loss = 2.03528593\n",
            "Iteration 3, loss = 1.56003202\n",
            "Iteration 4, loss = 1.33809714\n",
            "Iteration 5, loss = 1.25801888\n",
            "Iteration 6, loss = 1.21226039\n",
            "Iteration 7, loss = 1.16612555\n",
            "Iteration 8, loss = 0.99604522\n",
            "Iteration 9, loss = 0.91211874\n",
            "Iteration 10, loss = 0.87166199\n",
            "Iteration 11, loss = 0.84690449\n",
            "Iteration 12, loss = 0.83917297\n",
            "Iteration 13, loss = 0.82846150\n",
            "Iteration 14, loss = 0.82152688\n",
            "Iteration 15, loss = 0.81623905\n",
            "Iteration 16, loss = 0.80634654\n",
            "Iteration 17, loss = 0.80440505\n",
            "Iteration 18, loss = 0.80520559\n",
            "Iteration 19, loss = 0.79752691\n",
            "Iteration 20, loss = 0.79851833\n",
            "Iteration 21, loss = 0.79623638\n",
            "Iteration 22, loss = 0.78686976\n",
            "Iteration 23, loss = 0.79216746\n",
            "Iteration 24, loss = 0.78669535\n",
            "Iteration 25, loss = 0.78439978\n",
            "Iteration 26, loss = 0.78438314\n",
            "Iteration 27, loss = 0.78287740\n",
            "Iteration 28, loss = 0.77902647\n",
            "Iteration 29, loss = 0.77566693\n",
            "Iteration 30, loss = 0.77602932\n",
            "Iteration 31, loss = 0.77780836\n",
            "Iteration 32, loss = 0.77647521\n",
            "Iteration 33, loss = 0.77124584\n",
            "Iteration 34, loss = 0.77085683\n",
            "Iteration 35, loss = 0.76782969\n",
            "Iteration 36, loss = 0.77194993\n",
            "Iteration 37, loss = 0.76520166\n",
            "Iteration 38, loss = 0.76977830\n",
            "Iteration 39, loss = 0.76889399\n",
            "Iteration 40, loss = 0.76524209\n",
            "Iteration 41, loss = 0.76374749\n",
            "Iteration 42, loss = 0.76355683\n",
            "Iteration 43, loss = 0.76454578\n",
            "Iteration 44, loss = 0.76240092\n",
            "Iteration 45, loss = 0.76136435\n",
            "Iteration 46, loss = 0.75876123\n",
            "Iteration 47, loss = 0.75850117\n",
            "Iteration 48, loss = 0.76574557\n",
            "Iteration 49, loss = 0.75904238\n",
            "Iteration 50, loss = 0.75600324\n",
            "Iteration 51, loss = 0.75728280\n",
            "Iteration 52, loss = 0.76266580\n",
            "Iteration 53, loss = 0.75674508\n",
            "Iteration 54, loss = 0.75758408\n",
            "Iteration 55, loss = 0.76820248\n",
            "Iteration 56, loss = 0.75498682\n",
            "Iteration 57, loss = 0.75418668\n",
            "Iteration 58, loss = 0.75286626\n",
            "Iteration 59, loss = 0.75758736\n",
            "Iteration 60, loss = 0.75939502\n",
            "Iteration 61, loss = 0.75189796\n",
            "Iteration 62, loss = 0.75124643\n",
            "Iteration 63, loss = 0.75319163\n",
            "Iteration 64, loss = 0.75341337\n",
            "Iteration 65, loss = 0.75200808\n",
            "Iteration 66, loss = 0.74843219\n",
            "Iteration 67, loss = 0.75334198\n",
            "Iteration 68, loss = 0.75429429\n",
            "Iteration 69, loss = 0.74775398\n",
            "Iteration 70, loss = 0.75036204\n",
            "Iteration 71, loss = 0.75591228\n",
            "Iteration 72, loss = 0.75501036\n",
            "Iteration 73, loss = 0.75215808\n",
            "Iteration 74, loss = 0.74385363\n",
            "Iteration 75, loss = 0.74697065\n",
            "Iteration 76, loss = 0.70321739\n",
            "Iteration 77, loss = 0.69209303\n",
            "Iteration 78, loss = 0.65973404\n",
            "Iteration 79, loss = 0.64538523\n",
            "Iteration 80, loss = 0.64422299\n",
            "Iteration 81, loss = 0.62666391\n",
            "Iteration 82, loss = 0.62573830\n",
            "Iteration 83, loss = 0.62451474\n",
            "Iteration 84, loss = 0.61678663\n",
            "Iteration 85, loss = 0.61843264\n",
            "Iteration 86, loss = 0.61369930\n",
            "Iteration 87, loss = 0.60871925\n",
            "Iteration 88, loss = 0.61021998\n",
            "Iteration 89, loss = 0.60345596\n",
            "Iteration 90, loss = 0.60925292\n",
            "Iteration 91, loss = 0.60913731\n",
            "Iteration 92, loss = 0.60956447\n",
            "Iteration 93, loss = 0.60401562\n",
            "Iteration 94, loss = 0.60355511\n",
            "Iteration 95, loss = 0.60871069\n",
            "Iteration 96, loss = 0.60502062\n",
            "Iteration 97, loss = 0.61086357\n",
            "Iteration 98, loss = 0.60384600\n",
            "Iteration 99, loss = 0.59722595\n",
            "Iteration 100, loss = 0.60698008\n",
            "Iteration 101, loss = 0.59581546\n",
            "Iteration 102, loss = 0.60355570\n",
            "Iteration 103, loss = 0.59960387\n",
            "Iteration 104, loss = 0.60157797\n",
            "Iteration 105, loss = 0.60625923\n",
            "Iteration 106, loss = 0.59971460\n",
            "Iteration 107, loss = 0.59756099\n",
            "Iteration 108, loss = 0.60053982\n",
            "Iteration 109, loss = 0.59437475\n",
            "Iteration 110, loss = 0.60089397\n",
            "Iteration 111, loss = 0.59788973\n",
            "Iteration 112, loss = 0.59051350\n",
            "Iteration 113, loss = 0.59656312\n",
            "Iteration 114, loss = 0.59136209\n",
            "Iteration 115, loss = 0.59242337\n",
            "Iteration 116, loss = 0.58874611\n",
            "Iteration 117, loss = 0.59162841\n",
            "Iteration 118, loss = 0.60377671\n",
            "Iteration 119, loss = 0.59029287\n",
            "Iteration 120, loss = 0.59056046\n",
            "Iteration 121, loss = 0.60875394\n",
            "Iteration 122, loss = 0.59517536\n",
            "Iteration 123, loss = 0.59294588\n",
            "Iteration 124, loss = 0.58118015\n",
            "Iteration 125, loss = 0.58775662\n",
            "Iteration 126, loss = 0.58261966\n",
            "Iteration 127, loss = 0.60828384\n",
            "Iteration 128, loss = 0.59714601\n",
            "Iteration 129, loss = 0.59533073\n",
            "Iteration 130, loss = 0.58909260\n",
            "Iteration 131, loss = 0.58447363\n",
            "Iteration 132, loss = 0.58564467\n",
            "Iteration 133, loss = 0.59073453\n",
            "Iteration 134, loss = 0.59175227\n",
            "Iteration 135, loss = 0.60364684\n",
            "Training loss did not improve more than tol=0.000100 for 10 consecutive epochs. Stopping.\n"
          ]
        },
        {
          "output_type": "execute_result",
          "data": {
            "text/plain": [
              "MLPClassifier(hidden_layer_sizes=(16, 16, 16), verbose=True)"
            ]
          },
          "metadata": {},
          "execution_count": 27
        }
      ]
    },
    {
      "cell_type": "code",
      "source": [
        "y_hat=mlp.predict(X_test)"
      ],
      "metadata": {
        "id": "S8DrXkLTd3V4"
      },
      "execution_count": 28,
      "outputs": []
    },
    {
      "cell_type": "code",
      "source": [
        "def model_eval(actual,predicted):\n",
        "  cm_mlp=(confusion_matrix(actual, predicted))\n",
        "  acc_score=(accuracy_score(actual, predicted))\n",
        "  classrep_mlp=(classification_report(actual,predicted))\n",
        "  print('the accuracy of the model is:',acc_score)\n",
        "  print(cm_mlp)\n",
        "  print(classrep_mlp)"
      ],
      "metadata": {
        "id": "bwCCuPSgeGPU"
      },
      "execution_count": 30,
      "outputs": []
    },
    {
      "cell_type": "code",
      "source": [
        "model_eval(y_test,y_hat)"
      ],
      "metadata": {
        "colab": {
          "base_uri": "https://localhost:8080/"
        },
        "id": "ZD2F340pmCF8",
        "outputId": "e4474433-8169-47ec-da26-384d2ce74628"
      },
      "execution_count": 31,
      "outputs": [
        {
          "output_type": "stream",
          "name": "stdout",
          "text": [
            "the accuracy of the model is: 0.7696666666666667\n",
            "[[ 912    2   88  107   18    2    7    0    4    0]\n",
            " [  14 1149   13   55    2    3    2    0    3    0]\n",
            " [  16    1  935   12  234    1    3    0   10    0]\n",
            " [  45   31   35  957   64    8    7    1    1    0]\n",
            " [   4    0  275   48  772    0    1    0   50    0]\n",
            " [   1    0    0    1    1 1146    0   50    2   23]\n",
            " [ 282    0  606   58  228    0    7    0   27    0]\n",
            " [   0    0    1    0    0   48    0 1139    0   39]\n",
            " [   4    0   19   11  104   13    0   10 1063    0]\n",
            " [   0    1    0    1    0   17    0   50    0 1156]]\n",
            "              precision    recall  f1-score   support\n",
            "\n",
            "           0       0.71      0.80      0.75      1140\n",
            "           1       0.97      0.93      0.95      1241\n",
            "           2       0.47      0.77      0.59      1212\n",
            "           3       0.77      0.83      0.80      1149\n",
            "           4       0.54      0.67      0.60      1150\n",
            "           5       0.93      0.94      0.93      1224\n",
            "           6       0.26      0.01      0.01      1208\n",
            "           7       0.91      0.93      0.92      1227\n",
            "           8       0.92      0.87      0.89      1224\n",
            "           9       0.95      0.94      0.95      1225\n",
            "\n",
            "    accuracy                           0.77     12000\n",
            "   macro avg       0.74      0.77      0.74     12000\n",
            "weighted avg       0.75      0.77      0.74     12000\n",
            "\n"
          ]
        }
      ]
    }
  ]
}